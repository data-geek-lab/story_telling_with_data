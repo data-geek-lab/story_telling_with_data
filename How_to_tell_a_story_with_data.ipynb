{
 "cells": [
  {
   "cell_type": "markdown",
   "id": "f71dcb11-285a-4363-82a0-2fe0d4441163",
   "metadata": {},
   "source": [
    "# How to tell a story with your data (beginner friendly)\n",
    "\n",
    "\n",
    "You can see the full step-by-step vidoe here: \n",
    "\n",
    "Please don’t forget to like and subscribe for more beginner-friendly Python projects. "
   ]
  },
  {
   "cell_type": "markdown",
   "id": "896110c4-bd1f-4660-9c5d-5105e87b4db5",
   "metadata": {},
   "source": [
    " First, define the question. \"What do you want to know from this data?\"\n",
    "Will will answer: \"What influences purchase behavior across age groups and countries?”"
   ]
  },
  {
   "cell_type": "markdown",
   "id": "a4e91b61-b168-4aba-bd4c-a1933b573ef9",
   "metadata": {},
   "source": [
    "#### Step 1: Acquire\n",
    "  Let’s import the dataset into Jupyter Notebook and preview it."
   ]
  },
  {
   "cell_type": "code",
   "execution_count": null,
   "id": "94f22bc2-4856-4873-b043-1e378bc910bf",
   "metadata": {},
   "outputs": [],
   "source": [
    "import pandas as pd\n",
    "# Load the data\n",
    "df = pd.read_csv(\"cartoon_customer_data.csv\")\n",
    "df.head()"
   ]
  },
  {
   "cell_type": "markdown",
   "id": "9fe70a98-354c-41fb-b704-6e5f168fccb8",
   "metadata": {},
   "source": [
    "#### Step 2: \n",
    "Now we’ll clean the data — remove duplicates, check for nulls, and group age ranges"
   ]
  },
  {
   "cell_type": "code",
   "execution_count": null,
   "id": "73656b5a-e839-4208-a2eb-b8a352f9e68f",
   "metadata": {},
   "outputs": [],
   "source": [
    "# Check for missing values\n",
    "df.isnull().sum()"
   ]
  },
  {
   "cell_type": "code",
   "execution_count": null,
   "id": "0d13bf1a-0e2b-4105-9eea-f47c79f4d511",
   "metadata": {},
   "outputs": [],
   "source": [
    "# Drop duplicates\n",
    "df.drop_duplicates(inplace=True)"
   ]
  },
  {
   "cell_type": "code",
   "execution_count": null,
   "id": "552002c0-b47f-4b80-a4a8-341d3c2856af",
   "metadata": {},
   "outputs": [],
   "source": [
    "# Create age group\n",
    "bins = [0, 18, 35, 50, 70]\n",
    "labels = [\"Teen\", \"Young Adult\", \"Adult\", \"Senior\"]\n",
    "df[\"Age Group\"] = pd.cut(df[\"Age\"], bins=bins, labels=labels)"
   ]
  },
  {
   "cell_type": "markdown",
   "id": "c267fac9-7299-41e2-bb4c-fb5ab0a8450f",
   "metadata": {},
   "source": [
    "This creates the age ranges (also called bins).\n",
    "These ranges split ages into four groups:\n",
    "0 to 18 = \"Teen\"\n",
    "18 to 35 = \"Young Adult\"\n",
    "35 to 50 = \"Adult\"\n",
    "50 to 70 = \"Senior\"\n",
    "Think of this as drawing boundary lines to group ages into buckets."
   ]
  },
  {
   "cell_type": "markdown",
   "id": "bb064881-39f3-4339-af6b-54e338361e3a",
   "metadata": {},
   "source": [
    "#### Step 3: Visualize\n",
    "\n",
    "Let’s bring this story to life with some visuals"
   ]
  },
  {
   "cell_type": "code",
   "execution_count": null,
   "id": "f0dfd918-ccbb-434a-8033-08507f2f3250",
   "metadata": {},
   "outputs": [],
   "source": [
    "# First import your library to use the packages for these visualizations\n",
    "import matplotlib.pyplot as plt"
   ]
  },
  {
   "cell_type": "code",
   "execution_count": null,
   "id": "e3a37aaf-fed5-405a-aee3-dd4527cc88d7",
   "metadata": {},
   "outputs": [],
   "source": [
    "# a. Bar Chart: Total Purchase Amount by Country\n",
    "country_sales = df.groupby(\"Country\")[\"PurchaseAmount\"].sum().sort_values()\n",
    "\n",
    "plt.figure(figsize=(10, 6))\n",
    "country_sales.plot(kind='barh', color='skyblue')\n",
    "plt.title(\"Total Purchase Amount by Country\")\n",
    "plt.xlabel(\"Total Sales ($)\")\n",
    "plt.ylabel(\"Country\")\n",
    "plt.tight_layout()\n",
    "plt.show()"
   ]
  },
  {
   "cell_type": "markdown",
   "id": "f7236cb5-f09d-47ee-a54c-9cb993a60736",
   "metadata": {},
   "source": [
    "Bar charts like this help us quickly compare totals and spot who’s contributing the most."
   ]
  },
  {
   "cell_type": "code",
   "execution_count": null,
   "id": "710b9044-4c68-4dd2-be93-050e9889e841",
   "metadata": {},
   "outputs": [],
   "source": [
    "# b. Bar Chart: Average Purchase by Age Group\n",
    "age_avg = df.groupby(\"Age Group\")[\"PurchaseAmount\"].mean()\n",
    "\n",
    "plt.figure(figsize=(8, 5))\n",
    "age_avg.plot(kind='bar', color='lightgreen')\n",
    "plt.title(\"Average Purchase Amount by Age Group\")\n",
    "plt.ylabel(\"Average Purchase ($)\")\n",
    "plt.xlabel(\"Age Group\")\n",
    "plt.xticks(rotation=0)\n",
    "plt.tight_layout()\n",
    "plt.show()"
   ]
  },
  {
   "cell_type": "markdown",
   "id": "e31bf648-29b2-41c8-a5f0-92ed32eb4b7f",
   "metadata": {},
   "source": [
    "This tells us that younger customers might be more impulsive or trend-driven, and businesses targeting them could benefit from upselling."
   ]
  },
  {
   "cell_type": "code",
   "execution_count": null,
   "id": "80ff973b-3057-42ef-a17c-4329bbc9d1d1",
   "metadata": {},
   "outputs": [],
   "source": [
    "# c. Pie Chart: Average Purchase by Gender\n",
    "\n",
    "gender_counts = df[\"Gender\"].value_counts()\n",
    "\n",
    "plt.figure(figsize=(6, 6))\n",
    "plt.pie(gender_counts, labels=gender_counts.index, autopct='%1.1f%%', colors=['#66b3ff','#ff9999','#99ff99'])\n",
    "plt.title(\"Customer Gender Breakdown\")\n",
    "plt.axis('equal')  # Keeps the pie chart circular\n",
    "plt.show()\n"
   ]
  },
  {
   "cell_type": "markdown",
   "id": "d07c1334-23da-4da8-ae5f-468dd51cafb7",
   "metadata": {},
   "source": [
    "This pie chart shows how many customers are male, female, or non-binary. It gives a clear, quick snapshot of your audience.This is our audiance by gender and this pie chart shows 64.2% male and 35.8% female. This helps us understand who we’re talking to — and can guide marketing strategies, ad visuals, or even product offerings."
   ]
  },
  {
   "cell_type": "markdown",
   "id": "b2ad0dea-01b9-4b5a-832b-0c17cef9a72a",
   "metadata": {},
   "source": [
    "Now that we’ve cleaned and explored the data, we can say that age and country both play a role in spending behavior.\n",
    "This is how we go from messy data to story-driven insights. \n",
    "\n",
    "Now lets save the cleaned dataset for later projects."
   ]
  },
  {
   "cell_type": "code",
   "execution_count": null,
   "id": "fb5a7bfb-3bbf-4124-aea9-041d52178bf7",
   "metadata": {},
   "outputs": [],
   "source": [
    "df.to_csv(\"cleaned_cartoon_customer_data.csv\", index=False) "
   ]
  },
  {
   "cell_type": "markdown",
   "id": "eb2d3db5-eca2-4995-be48-6d778aa70eca",
   "metadata": {},
   "source": [
    "You can also see the full step-by-step vidoe here: \n",
    "\n",
    "Please don’t forget to like and subscribe for more beginner-friendly Python projects. "
   ]
  }
 ],
 "metadata": {
  "kernelspec": {
   "display_name": "Python 3 (ipykernel)",
   "language": "python",
   "name": "python3"
  },
  "language_info": {
   "codemirror_mode": {
    "name": "ipython",
    "version": 3
   },
   "file_extension": ".py",
   "mimetype": "text/x-python",
   "name": "python",
   "nbconvert_exporter": "python",
   "pygments_lexer": "ipython3",
   "version": "3.12.7"
  },
  "panel-cell-order": [
   "ae9c2353-8da4-413b-a5ea-49798ba6d806",
   "50bcf9c7-93e2-4088-9265-6261d445ed97",
   "73a26213-b95a-4c0e-8514-12bc81c964cb",
   "a135fdd5-873c-4411-b391-e44509e4b929",
   "6c3f52a6-cee4-41c7-9e10-8b6eba1b4455",
   "5f7bd56c-8535-4b14-b73c-d450f5c13209",
   "e33b80a1-37c8-4829-9d20-3ceb2f41c3c9",
   "eac85cdd-35cc-4e84-b7b4-2170d261efaf",
   "1e9ac1d8-16cf-44d7-b732-4bc97fdfc69e",
   "119899b8-f629-4127-acbd-2a547b242be6",
   "7ecb56bc-9a6b-42a6-9fb8-730db57d00b9",
   "75f4ead6-075b-4a62-977f-4855e1754fdd",
   "c53e7803-66b6-4766-b886-f0cb02730774",
   "5cc3e732-56d4-45f2-91dd-4c1fad635afa",
   "7de6a2d9-985e-493d-9bbb-b0a7514432e7",
   "5d21ee57-963b-4a31-ab41-52116b7c0ff6",
   "bfc6329d-611a-4b21-99cd-f97ee49e8439",
   "a3105a69-b493-4ac3-826d-05a6b83b1bdc",
   "f4e4617c-c8ae-451c-bdbd-d363e7f6b156",
   "1e156b0b-e122-437b-868c-9d35a1d22731",
   "e1d79c34-1155-4e59-b69a-8f91e8067a04",
   "b9e634b8-263f-4f56-b5a1-50b6918af867",
   "fa271850-85bd-41f7-b19c-5f4304ae608f",
   "6637eb4d-1468-426c-babb-5d91e7e0fe01",
   "9f62d4d1-fa92-4713-906b-67c8b6d6f4b9",
   "b7a69fa8-4a97-4782-8732-1b98927af933",
   "46b2f3d1-a1e0-44f4-9c9f-3092dc2ef28b",
   "b8c7a908-6966-41ea-88d1-dd0560a3d9ed",
   "c49e2e00-d5c8-4f1e-819f-4307731aafa3",
   "e3ce72f1-6102-4602-bb1a-5c105e7da470",
   "428f9e95-43e1-48a6-9503-e91f3ec9b5ad",
   "cefbd4c6-80bc-4347-940d-d95126da87fc",
   "a53d6495-38a5-48e1-9a42-8da8ee3799c9",
   "9d78cab7-0b04-4f97-ab8e-ca13069852da",
   "c604869c-6e91-40d9-8238-9ea07ee219a9",
   "9b765173-e1bf-442a-8890-6d45c1a4b929",
   "f71636ff-bab9-4527-ae06-1fd9280fbd9e",
   "2ad3be11-b183-466f-8394-b9fda5326f7b",
   "8c40b21a-732b-4bbb-a984-3bad8f5bd32f",
   "e80ddb6b-6bde-4ac0-a403-095f45fcb2fa",
   "72d17c0d-1048-468e-99b5-6c7c4d951f69"
  ]
 },
 "nbformat": 4,
 "nbformat_minor": 5
}
